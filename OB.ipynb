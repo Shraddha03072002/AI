{
 "cells": [
  {
   "cell_type": "markdown",
   "id": "50a856a1",
   "metadata": {},
   "source": [
    "# Object detection of video"
   ]
  },
  {
   "cell_type": "code",
   "execution_count": 1,
   "id": "c14dbf77",
   "metadata": {},
   "outputs": [
    {
     "ename": "AttributeError",
     "evalue": "'NoneType' object has no attribute 'shape'",
     "output_type": "error",
     "traceback": [
      "\u001b[1;31m---------------------------------------------------------------------------\u001b[0m",
      "\u001b[1;31mAttributeError\u001b[0m                            Traceback (most recent call last)",
      "\u001b[1;32mC:\\Users\\SHRADD~1\\AppData\\Local\\Temp/ipykernel_5592/3063756482.py\u001b[0m in \u001b[0;36m<module>\u001b[1;34m\u001b[0m\n\u001b[0;32m     45\u001b[0m \u001b[1;33m\u001b[0m\u001b[0m\n\u001b[0;32m     46\u001b[0m \u001b[1;33m\u001b[0m\u001b[0m\n\u001b[1;32m---> 47\u001b[1;33m \u001b[0mdetectCars\u001b[0m\u001b[1;33m(\u001b[0m\u001b[0mvideo\u001b[0m\u001b[1;33m)\u001b[0m\u001b[1;33m\u001b[0m\u001b[1;33m\u001b[0m\u001b[0m\n\u001b[0m\u001b[0;32m     48\u001b[0m \u001b[1;33m\u001b[0m\u001b[0m\n",
      "\u001b[1;32mC:\\Users\\SHRADD~1\\AppData\\Local\\Temp/ipykernel_5592/3063756482.py\u001b[0m in \u001b[0;36mdetectCars\u001b[1;34m(filename)\u001b[0m\n\u001b[0;32m     22\u001b[0m   \u001b[1;32mwhile\u001b[0m \u001b[0mrval\u001b[0m\u001b[1;33m:\u001b[0m\u001b[1;33m\u001b[0m\u001b[1;33m\u001b[0m\u001b[0m\n\u001b[0;32m     23\u001b[0m     \u001b[0mrval\u001b[0m\u001b[1;33m,\u001b[0m \u001b[0mframe\u001b[0m \u001b[1;33m=\u001b[0m \u001b[0mvc\u001b[0m\u001b[1;33m.\u001b[0m\u001b[0mread\u001b[0m\u001b[1;33m(\u001b[0m\u001b[1;33m)\u001b[0m\u001b[1;33m\u001b[0m\u001b[1;33m\u001b[0m\u001b[0m\n\u001b[1;32m---> 24\u001b[1;33m     \u001b[0mframeHeight\u001b[0m\u001b[1;33m,\u001b[0m \u001b[0mframeWidth\u001b[0m\u001b[1;33m,\u001b[0m \u001b[0mfdepth\u001b[0m \u001b[1;33m=\u001b[0m \u001b[0mframe\u001b[0m\u001b[1;33m.\u001b[0m\u001b[0mshape\u001b[0m\u001b[1;33m\u001b[0m\u001b[1;33m\u001b[0m\u001b[0m\n\u001b[0m\u001b[0;32m     25\u001b[0m \u001b[1;33m\u001b[0m\u001b[0m\n\u001b[0;32m     26\u001b[0m     \u001b[1;31m# Resize\u001b[0m\u001b[1;33m\u001b[0m\u001b[1;33m\u001b[0m\u001b[0m\n",
      "\u001b[1;31mAttributeError\u001b[0m: 'NoneType' object has no attribute 'shape'"
     ]
    }
   ],
   "source": [
    "import numpy as np\n",
    "import cv2\n",
    "\n",
    "cascade_src = \"File_path\"\n",
    "# video = 'data/Cars_On_Highway.mp4'\n",
    "video = \"File_path\" \n",
    "# video = 'data/video2.avi'\n",
    "\n",
    "\n",
    "def detectCars(filename):\n",
    "  rectangles = []\n",
    "  cascade = cv2.CascadeClassifier(cascade_src)\n",
    "\n",
    "  vc = cv2.VideoCapture(filename)\n",
    "\n",
    "  if vc.isOpened():\n",
    "      rval , frame = vc.read()\n",
    "  else:\n",
    "      rval = False\n",
    "\n",
    "\n",
    "  while rval:\n",
    "    rval, frame = vc.read()\n",
    "    frameHeight, frameWidth, fdepth = frame.shape\n",
    "\n",
    "    # Resize\n",
    "    frame = cv2.resize(frame, ( 600,  400 ))\n",
    "    gray = cv2.cvtColor(frame, cv2.COLOR_BGR2GRAY)\n",
    "\n",
    "    # haar detection.\n",
    "    cars = cascade.detectMultiScale(gray, 1.3, 3)\n",
    "\n",
    "\n",
    "    for (x, y, w, h) in cars:\n",
    "      cv2.rectangle(frame, (x, y), (x+w, y+h), (0, 0, 255), 2)\n",
    "\n",
    "\n",
    "    # show result\n",
    "    cv2.imshow(\"Result\",frame)\n",
    "\n",
    "    if cv2.waitKey(33) == ord('q'):\n",
    "      break\n",
    "\n",
    "  vc.release()\n",
    "\n",
    "\n",
    "detectCars(video)\n",
    "\n"
   ]
  },
  {
   "cell_type": "code",
   "execution_count": null,
   "id": "68687e75",
   "metadata": {},
   "outputs": [],
   "source": []
  },
  {
   "cell_type": "code",
   "execution_count": null,
   "id": "93eb3ddc",
   "metadata": {},
   "outputs": [],
   "source": []
  },
  {
   "cell_type": "code",
   "execution_count": null,
   "id": "bf73e52b",
   "metadata": {},
   "outputs": [],
   "source": []
  }
 ],
 "metadata": {
  "kernelspec": {
   "display_name": "Python 3 (ipykernel)",
   "language": "python",
   "name": "python3"
  },
  "language_info": {
   "codemirror_mode": {
    "name": "ipython",
    "version": 3
   },
   "file_extension": ".py",
   "mimetype": "text/x-python",
   "name": "python",
   "nbconvert_exporter": "python",
   "pygments_lexer": "ipython3",
   "version": "3.9.7"
  }
 },
 "nbformat": 4,
 "nbformat_minor": 5
}
